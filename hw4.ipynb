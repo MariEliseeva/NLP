{
  "nbformat": 4,
  "nbformat_minor": 0,
  "metadata": {
    "accelerator": "GPU",
    "colab": {
      "name": "task4.ipynb",
      "provenance": [],
      "collapsed_sections": []
    },
    "kernelspec": {
      "display_name": "Python 3",
      "language": "python",
      "name": "python3"
    },
    "language_info": {
      "codemirror_mode": {
        "name": "ipython",
        "version": 3
      },
      "file_extension": ".py",
      "mimetype": "text/x-python",
      "name": "python",
      "nbconvert_exporter": "python",
      "pygments_lexer": "ipython3",
      "version": "3.7.4"
    },
    "widgets": {
      "application/vnd.jupyter.widget-state+json": {
        "88ac78617127468ab48a0ba9cac155fa": {
          "model_module": "@jupyter-widgets/controls",
          "model_name": "HBoxModel",
          "state": {
            "_view_name": "HBoxView",
            "_dom_classes": [],
            "_model_name": "HBoxModel",
            "_view_module": "@jupyter-widgets/controls",
            "_model_module_version": "1.5.0",
            "_view_count": null,
            "_view_module_version": "1.5.0",
            "box_style": "",
            "layout": "IPY_MODEL_8ef3309bc25e4905be48152850416263",
            "_model_module": "@jupyter-widgets/controls",
            "children": [
              "IPY_MODEL_df17127628704f608ed6d1fd92b0713b",
              "IPY_MODEL_c094607b928d4668a8e0123c707dc32c"
            ]
          }
        },
        "a9cfc36e88aa4f9b81004a1d36661a71": {
          "model_module": "@jupyter-widgets/controls",
          "model_name": "HBoxModel",
          "state": {
            "_view_name": "HBoxView",
            "_dom_classes": [],
            "_model_name": "HBoxModel",
            "_view_module": "@jupyter-widgets/controls",
            "_model_module_version": "1.5.0",
            "_view_count": null,
            "_view_module_version": "1.5.0",
            "box_style": "",
            "layout": "IPY_MODEL_a6d3f0043fab4af680c6744ce40db15c",
            "_model_module": "@jupyter-widgets/controls",
            "children": [
              "IPY_MODEL_9430a02c16694fd4b53bfed7be7c20da",
              "IPY_MODEL_2fc9186495664c5d9e373346c4beaf65"
            ]
          }
        },
        "b695caa7e593484b80e5969cc72c80f2": {
          "model_module": "@jupyter-widgets/controls",
          "model_name": "HBoxModel",
          "state": {
            "_view_name": "HBoxView",
            "_dom_classes": [],
            "_model_name": "HBoxModel",
            "_view_module": "@jupyter-widgets/controls",
            "_model_module_version": "1.5.0",
            "_view_count": null,
            "_view_module_version": "1.5.0",
            "box_style": "",
            "layout": "IPY_MODEL_6346dd3beab14ebfb5ad9a49e2da686d",
            "_model_module": "@jupyter-widgets/controls",
            "children": [
              "IPY_MODEL_a27577ac84cb4c3eab064aa934fe7803",
              "IPY_MODEL_3b60a181feab43c8a1b66a96a7694f77"
            ]
          }
        },
        "a3420e78fa8348c4895c02ba6ebeb2dc": {
          "model_module": "@jupyter-widgets/controls",
          "model_name": "HBoxModel",
          "state": {
            "_view_name": "HBoxView",
            "_dom_classes": [],
            "_model_name": "HBoxModel",
            "_view_module": "@jupyter-widgets/controls",
            "_model_module_version": "1.5.0",
            "_view_count": null,
            "_view_module_version": "1.5.0",
            "box_style": "",
            "layout": "IPY_MODEL_e4f4e856925946ef99a8903f9b0a81c8",
            "_model_module": "@jupyter-widgets/controls",
            "children": [
              "IPY_MODEL_0d1d54aaa7c041a6ab0fc5174d5bff9f",
              "IPY_MODEL_f8bf3087f5f44705ac557a564e921f2a"
            ]
          }
        },
        "129bf8fd76c34ea3b74a9f63b3d61f55": {
          "model_module": "@jupyter-widgets/controls",
          "model_name": "HBoxModel",
          "state": {
            "_view_name": "HBoxView",
            "_dom_classes": [],
            "_model_name": "HBoxModel",
            "_view_module": "@jupyter-widgets/controls",
            "_model_module_version": "1.5.0",
            "_view_count": null,
            "_view_module_version": "1.5.0",
            "box_style": "",
            "layout": "IPY_MODEL_37fdaf6c5f334037b2404fefbc48d82e",
            "_model_module": "@jupyter-widgets/controls",
            "children": [
              "IPY_MODEL_0df15fcc30a947d68d7cec410a7f3824",
              "IPY_MODEL_331425b1c6584d8f8bd78c4b459f5f2c"
            ]
          }
        },
        "b05f2af7cd7f4f87ab64556cdc1a28cb": {
          "model_module": "@jupyter-widgets/controls",
          "model_name": "HBoxModel",
          "state": {
            "_view_name": "HBoxView",
            "_dom_classes": [],
            "_model_name": "HBoxModel",
            "_view_module": "@jupyter-widgets/controls",
            "_model_module_version": "1.5.0",
            "_view_count": null,
            "_view_module_version": "1.5.0",
            "box_style": "",
            "layout": "IPY_MODEL_158d81f601354743957ade8ba347c0ac",
            "_model_module": "@jupyter-widgets/controls",
            "children": [
              "IPY_MODEL_789d670c4ea849b78811ebc41e8f0af2",
              "IPY_MODEL_42908037aa1a46f4bf381efbcd2e7a00"
            ]
          }
        },
        "d0a4c179cfcf442d995fe59c6bd1e157": {
          "model_module": "@jupyter-widgets/controls",
          "model_name": "HBoxModel",
          "state": {
            "_view_name": "HBoxView",
            "_dom_classes": [],
            "_model_name": "HBoxModel",
            "_view_module": "@jupyter-widgets/controls",
            "_model_module_version": "1.5.0",
            "_view_count": null,
            "_view_module_version": "1.5.0",
            "box_style": "",
            "layout": "IPY_MODEL_e0f58f2240d04f6ab7c8661a8e6aa15e",
            "_model_module": "@jupyter-widgets/controls",
            "children": [
              "IPY_MODEL_c94455ba5e8b42378e840aee8f89f7d0",
              "IPY_MODEL_f45372efcab3426180dc1f5d1357fb35"
            ]
          }
        }
      }
    }
  },
  "cells": [
    {
      "cell_type": "code",
      "metadata": {
        "id": "x55c5E8qPW6v",
        "colab_type": "code",
        "colab": {}
      },
      "source": [
        "import re\n",
        "import csv\n",
        "import string\n",
        "from collections import defaultdict\n",
        "from tqdm import tnrange, tqdm_notebook\n",
        "from tqdm.auto import tqdm\n",
        "from sklearn.model_selection import train_test_split\n",
        "import numpy as np\n",
        "from matplotlib import pyplot as plt\n",
        "import torch\n",
        "import torch.nn as nn\n",
        "import torch.nn.functional as F\n",
        "import torch.optim as optim\n",
        "from torch.utils.data.dataset import Dataset\n",
        "from torch.nn.utils.rnn import pad_sequence\n",
        "import nltk\n",
        "from razdel import sentenize\n",
        "from nltk.corpus import stopwords\n",
        "import string\n",
        "from nltk.tokenize import wordpunct_tokenize as tokenize\n",
        "from nltk.stem.porter import PorterStemmer\n",
        "from sklearn.feature_extraction.text import TfidfVectorizer\n",
        "from scipy.spatial.distance import cosine\n",
        "from nltk.stem.snowball import SnowballStemmer"
      ],
      "execution_count": 0,
      "outputs": []
    },
    {
      "cell_type": "code",
      "metadata": {
        "colab_type": "code",
        "id": "TM-FGpSWHCWz",
        "outputId": "3dde88b1-b7f4-4ae1-e1f8-b13ce0806113",
        "colab": {
          "base_uri": "https://localhost:8080/",
          "height": 68
        }
      },
      "source": [
        "nltk.download('punkt')"
      ],
      "execution_count": 169,
      "outputs": [
        {
          "output_type": "stream",
          "text": [
            "[nltk_data] Downloading package punkt to /root/nltk_data...\n",
            "[nltk_data]   Package punkt is already up-to-date!\n"
          ],
          "name": "stdout"
        },
        {
          "output_type": "execute_result",
          "data": {
            "text/plain": [
              "True"
            ]
          },
          "metadata": {
            "tags": []
          },
          "execution_count": 169
        }
      ]
    },
    {
      "cell_type": "code",
      "metadata": {
        "colab_type": "code",
        "id": "UnFSXUV3xdK0",
        "colab": {}
      },
      "source": [
        "SEED = 1\n",
        "torch.manual_seed(SEED)\n",
        "np.random.seed(SEED)"
      ],
      "execution_count": 0,
      "outputs": []
    },
    {
      "cell_type": "code",
      "metadata": {
        "colab_type": "code",
        "id": "th_KCfdCxdLC",
        "outputId": "732eddf5-1585-47b0-c2d4-3488134be5ae",
        "colab": {
          "base_uri": "https://localhost:8080/",
          "height": 34
        }
      },
      "source": [
        "device = torch.device('cuda' if torch.cuda.is_available() else 'cpu')\n",
        "print(device)"
      ],
      "execution_count": 171,
      "outputs": [
        {
          "output_type": "stream",
          "text": [
            "cuda\n"
          ],
          "name": "stdout"
        }
      ]
    },
    {
      "cell_type": "code",
      "metadata": {
        "id": "D9TLYiltsbI8",
        "colab_type": "code",
        "colab": {
          "base_uri": "https://localhost:8080/",
          "height": 17,
          "referenced_widgets": [
            "88ac78617127468ab48a0ba9cac155fa"
          ]
        },
        "outputId": "f186f5b4-7f01-40e2-98a7-f1ec639b4393"
      },
      "source": [
        "data = []\n",
        "with open('train.csv', encoding='utf-8') as csvfile:\n",
        "    csv_reader = csv.reader(csvfile, delimiter=',')\n",
        "    isfirst = True\n",
        "    for row in tqdm(csv_reader):\n",
        "        if isfirst:\n",
        "            isfirst = False\n",
        "            continue\n",
        "        sentences = nltk.sent_tokenize(row[2])\n",
        "        question = row[3]\n",
        "        if question.endswith('?'):\n",
        "            question = question[:-1]\n",
        "        answer = row[4]\n",
        "        if answer.endswith(\"...\"):\n",
        "            answer = answer[:-3]\n",
        "        if answer.startswith(\"...\"):\n",
        "            answer = answer[3:]\n",
        "        if answer.startswith(' '):\n",
        "            answer = answer[1:]\n",
        "        if answer[0] in string.punctuation:\n",
        "            answer = answer[1:]\n",
        "        if answer[-1] in string.punctuation:\n",
        "            answer = answer[:-1]\n",
        "        answer = answer.strip()\n",
        "        answer_sentence, answer_index = None, None\n",
        "        for sentence in sentences:\n",
        "            index = sentence.lower().find(answer.lower())\n",
        "            if index != -1:\n",
        "                answer_sentence, answer_index = sentence, index\n",
        "                break\n",
        "        if answer_index:\n",
        "            answer_sentence = re.split('(\\W)', answer_sentence)\n",
        "            question = re.split('(\\W)', question)\n",
        "            data.append((answer_sentence, question, answer_index, len(answer)))"
      ],
      "execution_count": 174,
      "outputs": [
        {
          "output_type": "display_data",
          "data": {
            "application/vnd.jupyter.widget-view+json": {
              "model_id": "88ac78617127468ab48a0ba9cac155fa",
              "version_minor": 0,
              "version_major": 2
            },
            "text/plain": [
              "HBox(children=(IntProgress(value=1, bar_style='info', max=1), HTML(value='')))"
            ]
          },
          "metadata": {
            "tags": []
          }
        }
      ]
    },
    {
      "cell_type": "code",
      "metadata": {
        "colab_type": "code",
        "id": "cuWXjbpn7BxL",
        "colab": {}
      },
      "source": [
        "stemmer = SnowballStemmer(\"russian\")"
      ],
      "execution_count": 0,
      "outputs": []
    },
    {
      "cell_type": "code",
      "metadata": {
        "colab_type": "code",
        "id": "fpm8j82GIkwm",
        "colab": {}
      },
      "source": [
        "word_to_index = defaultdict(lambda: 0)\n",
        "separator = 65000\n",
        "pad_value = 65001"
      ],
      "execution_count": 0,
      "outputs": []
    },
    {
      "cell_type": "code",
      "metadata": {
        "colab_type": "code",
        "id": "IP-Q_4PtK2pl",
        "colab": {}
      },
      "source": [
        "def stem_words(sentence, query):\n",
        "    index = []\n",
        "\n",
        "    for word in sentence:\n",
        "        stemmed_word = stemmer.stem(word.lower())\n",
        "\n",
        "        if stemmed_word not in word_to_index:\n",
        "            word_to_index[stemmed_word] = len(word_to_index) + 1\n",
        "            \n",
        "        index.append(word_to_index[stemmed_word])\n",
        "    index.append(separator)\n",
        "\n",
        "    for word in query:\n",
        "        stemmed_word = stemmer.stem(word.lower())\n",
        "\n",
        "        if stemmed_word not in word_to_index:\n",
        "            word_to_index[stemmed_word] = len(word_to_index) + 1\n",
        "        \n",
        "        index.append(word_to_index[stemmed_word])\n",
        "\n",
        "    return torch.tensor(index)"
      ],
      "execution_count": 0,
      "outputs": []
    },
    {
      "cell_type": "code",
      "metadata": {
        "colab_type": "code",
        "id": "rPgIjg8mxdMe",
        "colab": {}
      },
      "source": [
        "def get_words_indices(sentence):\n",
        "    words_indices = []\n",
        "    index = 0\n",
        "    for word in sentence:\n",
        "        words_indices.append((index, len(word)))\n",
        "        index += len(word)\n",
        "    return words_indices"
      ],
      "execution_count": 0,
      "outputs": []
    },
    {
      "cell_type": "code",
      "metadata": {
        "colab_type": "code",
        "id": "tKKVAQeOxdMl",
        "colab": {
          "base_uri": "https://localhost:8080/",
          "height": 17,
          "referenced_widgets": [
            "a9cfc36e88aa4f9b81004a1d36661a71"
          ]
        },
        "outputId": "9438c098-a7b8-4019-df18-592eecb3576e"
      },
      "source": [
        "stemmed_dataset = [stem_words(item[0], item[1]) for item in tqdm(data)]\n",
        "stemmed_padded_data = pad_sequence(stemmed_dataset, batch_first=True, padding_value=pad_value)"
      ],
      "execution_count": 177,
      "outputs": [
        {
          "output_type": "display_data",
          "data": {
            "application/vnd.jupyter.widget-view+json": {
              "model_id": "a9cfc36e88aa4f9b81004a1d36661a71",
              "version_minor": 0,
              "version_major": 2
            },
            "text/plain": [
              "HBox(children=(IntProgress(value=0, max=43497), HTML(value='')))"
            ]
          },
          "metadata": {
            "tags": []
          }
        }
      ]
    },
    {
      "cell_type": "code",
      "metadata": {
        "colab_type": "code",
        "id": "X5VmPiTnKvYM",
        "colab": {
          "base_uri": "https://localhost:8080/",
          "height": 17,
          "referenced_widgets": [
            "b695caa7e593484b80e5969cc72c80f2"
          ]
        },
        "outputId": "16c16b52-7dbf-4955-fdd0-4f6785a75944"
      },
      "source": [
        "indices_data = [get_words_indices(item[0]) for item in tqdm(data)]"
      ],
      "execution_count": 178,
      "outputs": [
        {
          "output_type": "display_data",
          "data": {
            "application/vnd.jupyter.widget-view+json": {
              "model_id": "b695caa7e593484b80e5969cc72c80f2",
              "version_minor": 0,
              "version_major": 2
            },
            "text/plain": [
              "HBox(children=(IntProgress(value=0, max=43497), HTML(value='')))"
            ]
          },
          "metadata": {
            "tags": []
          }
        }
      ]
    },
    {
      "cell_type": "code",
      "metadata": {
        "colab_type": "code",
        "id": "iJdrIaH3xdM2",
        "colab": {}
      },
      "source": [
        "def join_dataset(stemmed_padded_data, indices_data, data):\n",
        "    dataset_joined = []\n",
        "\n",
        "    for sentence, indices, elem in tqdm(zip(stemmed_padded_data, indices_data, data)):\n",
        "        answer_start, answer_len = elem[2], elem[3]\n",
        "        y = np.array([0, 0])\n",
        "\n",
        "        for index in range(len(indices)):\n",
        "            if indices[index][0] == answer_start:\n",
        "                y[0] = index\n",
        "            if indices[index][0] == answer_start + answer_len:\n",
        "                y[1] = index - 1\n",
        "            \n",
        "        dataset_joined.append(np.append(sentence.numpy(), y))\n",
        "\n",
        "    return dataset_joined"
      ],
      "execution_count": 0,
      "outputs": []
    },
    {
      "cell_type": "code",
      "metadata": {
        "colab_type": "code",
        "id": "8HOBgF9yxdM8",
        "outputId": "75f4c680-d39d-4fb3-addf-b624c098cf55",
        "colab": {
          "base_uri": "https://localhost:8080/",
          "height": 17,
          "referenced_widgets": [
            "a3420e78fa8348c4895c02ba6ebeb2dc"
          ]
        }
      },
      "source": [
        "data_joined = join_dataset(stemmed_padded_data, indices_data, data)"
      ],
      "execution_count": 180,
      "outputs": [
        {
          "output_type": "display_data",
          "data": {
            "application/vnd.jupyter.widget-view+json": {
              "model_id": "a3420e78fa8348c4895c02ba6ebeb2dc",
              "version_minor": 0,
              "version_major": 2
            },
            "text/plain": [
              "HBox(children=(IntProgress(value=1, bar_style='info', max=1), HTML(value='')))"
            ]
          },
          "metadata": {
            "tags": []
          }
        }
      ]
    },
    {
      "cell_type": "code",
      "metadata": {
        "colab_type": "code",
        "id": "RBV-OUxTxdNI",
        "colab": {}
      },
      "source": [
        "train, val = train_test_split(data_joined, test_size=0.2, random_state=42)"
      ],
      "execution_count": 0,
      "outputs": []
    },
    {
      "cell_type": "code",
      "metadata": {
        "colab_type": "code",
        "id": "ZAssvCKbxdNM",
        "colab": {}
      },
      "source": [
        "class LSTMModel(nn.Module):\n",
        "    def __init__(self, num_layers, vocab_size):\n",
        "        super(LSTMModel, self).__init__()\n",
        "        self.word_embeddings = nn.Embedding(vocab_size, 64)\n",
        "        self.lstm = nn.LSTM(64, 64, num_layers=num_layers, bidirectional=True, batch_first=True)\n",
        "        self.fc2 = nn.Linear(hidden_dim * 2, 2)\n",
        "    \n",
        "    def forward(self, x):\n",
        "        x = self.word_embeddings(x)\n",
        "        x, _ = self.lstm(x)\n",
        "        x = self.fc2(x)\n",
        "        x = torch.transpose(x, 1, 2)\n",
        "        x = F.log_softmax(x, dim=2)\n",
        "        \n",
        "        return x"
      ],
      "execution_count": 0,
      "outputs": []
    },
    {
      "cell_type": "code",
      "metadata": {
        "colab_type": "code",
        "id": "6xw73WgmxdNT",
        "colab": {}
      },
      "source": [
        "def fit(model, train, val, optimizer, loss_function, epoch_cnt, batch_size):\n",
        "    train_loader = torch.utils.data.DataLoader(train, batch_size=batch_size, shuffle=True)\n",
        "    val_loader = torch.utils.data.DataLoader(val, batch_size=batch_size)\n",
        "    train_loss_values = []\n",
        "    val_loss_values = []\n",
        "            \n",
        "    for epoch in range(epoch_cnt):\n",
        "        for batch_data in train_loader:\n",
        "            x, y = batch_data[:, :-2].to(device), batch_data[:, -2:].to(device)\n",
        "            optimizer.zero_grad()\n",
        "            output = model(x.long())\n",
        "            loss = (loss_function(output[:, 0], y[:, 0].reshape(-1).long()) +\\\n",
        "                    loss_function(output[:, 1], y[:, 1].reshape(-1).long())) / 2\n",
        "            loss.backward()\n",
        "\n",
        "            train_loss_values.append(loss.item())\n",
        "            nn.utils.clip_grad_norm_(model.parameters(), 5)\n",
        "            optimizer.step()\n",
        "\n",
        "        with torch.no_grad():\n",
        "            loss_values = []\n",
        "            for batch_data in val_loader:\n",
        "                x, y = batch_data[:, :-2].to(device), batch_data[:, -2:].to(device)\n",
        "                output = model(x.long())\n",
        "                loss = (loss_function(output[:, 0], y[:, 0].reshape(-1).long()) +\\\n",
        "                        loss_function(output[:, 1], y[:, 1].reshape(-1).long())) / 2\n",
        "\n",
        "                loss_values.append(loss.item())\n",
        "            val_loss_values.append(np.mean(np.array(loss_values)))\n",
        "\n",
        "        print(\"Epoch \" + str(epoch) + \" done.\")\n",
        "    return train_loss_values, val_loss_values \n"
      ],
      "execution_count": 0,
      "outputs": []
    },
    {
      "cell_type": "code",
      "metadata": {
        "colab_type": "code",
        "id": "dXXYUI-mxdNa",
        "colab": {}
      },
      "source": [
        "num_layers = 4\n",
        "vocab_size = max(pad_value, len(word_to_index)) + 1\n",
        "epoch_cnt = 10\n",
        "batch_size = 128"
      ],
      "execution_count": 0,
      "outputs": []
    },
    {
      "cell_type": "code",
      "metadata": {
        "colab_type": "code",
        "id": "ar55HPBvP735",
        "colab": {}
      },
      "source": [
        "torch.cuda.empty_cache()"
      ],
      "execution_count": 0,
      "outputs": []
    },
    {
      "cell_type": "code",
      "metadata": {
        "colab_type": "code",
        "id": "7TidGCKaxdNd",
        "colab": {}
      },
      "source": [
        "model = LSTMModel(num_layers, vocab_size)\n",
        "model = model.float()\n",
        "model = model.to(device)"
      ],
      "execution_count": 0,
      "outputs": []
    },
    {
      "cell_type": "code",
      "metadata": {
        "colab_type": "code",
        "id": "h1rI1_MYxdNi",
        "colab": {}
      },
      "source": [
        "loss_function = nn.NLLLoss()\n",
        "optimizer = optim.Adam(model.parameters())"
      ],
      "execution_count": 0,
      "outputs": []
    },
    {
      "cell_type": "code",
      "metadata": {
        "colab_type": "code",
        "id": "ke_exZJWxdNs",
        "outputId": "67ae1e81-85cc-4ad0-d17e-a80cc5a48e91",
        "colab": {
          "base_uri": "https://localhost:8080/",
          "height": 187
        }
      },
      "source": [
        "train_loss_values, val_loss_values =\\\n",
        "    fit(model, train, val, optimizer, loss_function, epoch_cnt, batch_size)"
      ],
      "execution_count": 188,
      "outputs": [
        {
          "output_type": "stream",
          "text": [
            "Epoch 0 done.\n",
            "Epoch 1 done.\n",
            "Epoch 2 done.\n",
            "Epoch 3 done.\n",
            "Epoch 4 done.\n",
            "Epoch 5 done.\n",
            "Epoch 6 done.\n",
            "Epoch 7 done.\n",
            "Epoch 8 done.\n",
            "Epoch 9 done.\n"
          ],
          "name": "stdout"
        }
      ]
    },
    {
      "cell_type": "code",
      "metadata": {
        "colab_type": "code",
        "id": "Ajsgios6U1ed",
        "outputId": "0517138a-9e92-479e-914b-e44b000b2d89",
        "colab": {
          "base_uri": "https://localhost:8080/",
          "height": 51
        }
      },
      "source": [
        "nltk.download('stopwords')\n",
        "stop_words = set(stopwords.words('russian'))"
      ],
      "execution_count": 189,
      "outputs": [
        {
          "output_type": "stream",
          "text": [
            "[nltk_data] Downloading package stopwords to /root/nltk_data...\n",
            "[nltk_data]   Package stopwords is already up-to-date!\n"
          ],
          "name": "stdout"
        }
      ]
    },
    {
      "cell_type": "code",
      "metadata": {
        "id": "MtG-4VTkDGOO",
        "colab_type": "code",
        "colab": {}
      },
      "source": [
        "import pymorphy2\n",
        "morph = pymorphy2.MorphAnalyzer()"
      ],
      "execution_count": 0,
      "outputs": []
    },
    {
      "cell_type": "code",
      "metadata": {
        "id": "hrmLFld1DJaW",
        "colab_type": "code",
        "colab": {
          "base_uri": "https://localhost:8080/",
          "height": 224
        },
        "outputId": "23b99a08-07f5-44ee-8ac2-292a130d4e0a"
      },
      "source": [
        "pip install pymorphy2"
      ],
      "execution_count": 205,
      "outputs": [
        {
          "output_type": "stream",
          "text": [
            "Collecting pymorphy2\n",
            "\u001b[?25l  Downloading https://files.pythonhosted.org/packages/a3/33/fff9675c68b5f6c63ec8c6e6ff57827dda28a1fa5b2c2d727dffff92dd47/pymorphy2-0.8-py2.py3-none-any.whl (46kB)\n",
            "\u001b[K     |████████████████████████████████| 51kB 2.7MB/s \n",
            "\u001b[?25hCollecting pymorphy2-dicts<3.0,>=2.4\n",
            "\u001b[?25l  Downloading https://files.pythonhosted.org/packages/02/51/2465fd4f72328ab50877b54777764d928da8cb15b74e2680fc1bd8cb3173/pymorphy2_dicts-2.4.393442.3710985-py2.py3-none-any.whl (7.1MB)\n",
            "\u001b[K     |████████████████████████████████| 7.1MB 13.5MB/s \n",
            "\u001b[?25hCollecting dawg-python>=0.7\n",
            "  Downloading https://files.pythonhosted.org/packages/6a/84/ff1ce2071d4c650ec85745766c0047ccc3b5036f1d03559fd46bb38b5eeb/DAWG_Python-0.7.2-py2.py3-none-any.whl\n",
            "Requirement already satisfied: docopt>=0.6 in /usr/local/lib/python3.6/dist-packages (from pymorphy2) (0.6.2)\n",
            "Installing collected packages: pymorphy2-dicts, dawg-python, pymorphy2\n",
            "Successfully installed dawg-python-0.7.2 pymorphy2-0.8 pymorphy2-dicts-2.4.393442.3710985\n"
          ],
          "name": "stdout"
        }
      ]
    },
    {
      "cell_type": "code",
      "metadata": {
        "colab_type": "code",
        "id": "ZP0JBc2lRueM",
        "colab": {}
      },
      "source": [
        "def find_closest_sentence(text, query):\n",
        "    sentences = [elem.text for elem in list(sentenize(text))]\n",
        "    docs = sentences + [query]\n",
        "    modified_docs = [[stemmer.stem(i.lower()) for i in tokenize(d.translate(str.maketrans('','',string.punctuation))) if i.lower() not in stop_words] for d in docs]\n",
        "    modified_docs = [' '.join(i) for i in modified_docs]\n",
        "    tf_idf = TfidfVectorizer().fit_transform(modified_docs)\n",
        "\n",
        "    minimum = (1, None)\n",
        "    for i in range(len(sentences)):\n",
        "        if cosine(tf_idf[i].todense(), tf_idf[len(sentences)].todense()) < minimum[0]:\n",
        "            minimum = (cosine(tf_idf[i].todense(), tf_idf[len(sentences)].todense()), i)\n",
        "    if minimum[1] == None:\n",
        "        return None\n",
        "    return sentences[minimum[1]]\n"
      ],
      "execution_count": 0,
      "outputs": []
    },
    {
      "cell_type": "code",
      "metadata": {
        "colab_type": "code",
        "id": "JuXQFeCexdLM",
        "colab": {
          "base_uri": "https://localhost:8080/",
          "height": 54,
          "referenced_widgets": [
            "129bf8fd76c34ea3b74a9f63b3d61f55"
          ]
        },
        "outputId": "e403c78e-b356-4e27-b1c7-419500ca1795"
      },
      "source": [
        "input_filename = \"dataset_281937_1-13.txt\"\n",
        "test = []\n",
        "with open(input_filename, encoding='utf-8') as csvfile:\n",
        "    csv_reader = csv.reader(csvfile, delimiter='\\t')\n",
        "    isfirst = True\n",
        "    sgere = 0\n",
        "    for row in tqdm(csv_reader):\n",
        "        print(sgere, end = ' ')\n",
        "        sgere += 1\n",
        "        if isfirst:\n",
        "            isfirst = False\n",
        "            continue\n",
        "        question = row[3]\n",
        "        id_ = row[1]\n",
        "        if question[-1] == '?':\n",
        "            question = question[:-1]\n",
        "        sentence = find_closest_sentence(row[2], question)\n",
        "        if sentence == None:\n",
        "            sentence = row[2]\n",
        "        sentence = re.split('(\\W)', sentence)\n",
        "        question = re.split('(\\W)', question)\n",
        "        test.append((sentence,\n",
        "                     question,\n",
        "                     id_))\n"
      ],
      "execution_count": 217,
      "outputs": [
        {
          "output_type": "display_data",
          "data": {
            "application/vnd.jupyter.widget-view+json": {
              "model_id": "129bf8fd76c34ea3b74a9f63b3d61f55",
              "version_minor": 0,
              "version_major": 2
            },
            "text/plain": [
              "HBox(children=(IntProgress(value=1, bar_style='info', max=1), HTML(value='')))"
            ]
          },
          "metadata": {
            "tags": []
          }
        },
        {
          "output_type": "stream",
          "text": [
            "0 1 2 3 4 5 6 7 8 9 10 11 12 13 14 15 16 17 18 19 20 21 22 23 24 25 26 27 28 29 30 31 32 33 34 35 36 37 38 39 40 41 42 43 44 45 46 47 48 49 50 51 52 53 54 55 56 57 58 59 60 61 62 63 64 65 66 67 68 69 70 71 72 73 74 75 76 77 78 79 80 81 82 83 84 85 86 87 88 89 90 91 92 93 94 95 96 97 98 99 100 101 102 103 104 105 106 107 108 109 110 111 112 113 114 115 116 117 118 119 120 121 122 123 124 125 126 127 128 129 130 131 132 133 134 135 136 137 138 139 140 141 142 143 144 145 146 147 148 149 150 151 152 153 154 155 156 157 158 159 160 161 162 163 164 165 166 167 168 169 170 171 172 173 174 175 176 177 178 179 180 181 182 183 184 185 186 187 188 189 190 191 192 193 194 195 196 197 198 199 200 201 202 203 204 205 206 207 208 209 210 211 212 213 214 215 216 217 218 219 220 221 222 223 224 225 226 227 228 229 230 231 232 233 234 235 236 237 238 239 240 241 242 243 244 245 246 247 248 249 250 251 252 253 254 255 256 257 258 259 260 261 262 263 264 265 266 267 268 269 270 271 272 273 274 275 276 277 278 279 280 281 282 283 284 285 286 287 288 289 290 291 292 293 294 295 296 297 298 299 300 301 302 303 304 305 306 307 308 309 310 311 312 313 314 315 316 317 318 319 320 321 322 323 324 325 326 327 328 329 330 331 332 333 334 335 336 337 338 339 340 341 342 343 344 345 346 347 348 349 350 351 352 353 354 355 356 357 358 359 360 361 362 363 364 365 366 367 368 369 370 371 372 373 374 375 376 377 378 379 380 381 382 383 384 385 386 387 388 389 390 391 392 393 394 395 396 397 398 399 400 401 402 403 404 405 406 407 408 409 410 411 412 413 414 415 416 417 418 419 420 421 422 423 424 425 426 427 428 429 430 431 432 433 434 435 436 437 438 439 440 441 442 443 444 445 446 447 448 449 450 451 452 453 454 455 456 457 458 459 460 461 462 463 464 465 466 467 468 469 470 471 472 473 474 475 476 477 478 479 480 481 482 483 484 485 486 487 488 489 490 491 492 493 494 495 496 497 498 499 500 501 502 503 504 505 506 507 508 509 510 511 512 513 514 515 516 517 518 519 520 521 522 523 524 525 526 527 528 529 530 531 532 533 534 535 536 537 538 539 540 541 542 543 544 545 546 547 548 549 550 551 552 553 554 555 556 557 558 559 560 561 562 563 564 565 566 567 568 569 570 571 572 573 574 575 576 577 578 579 580 581 582 583 584 585 586 587 588 589 590 591 592 593 594 595 596 597 598 599 600 601 602 603 604 605 606 607 608 609 610 611 612 613 614 615 616 617 618 619 620 621 622 623 624 625 626 627 628 629 630 631 632 633 634 635 636 637 638 639 640 641 642 643 644 645 646 647 648 649 650 651 652 653 654 655 656 657 658 659 660 661 662 663 664 665 666 667 668 669 670 671 672 673 674 675 676 677 678 679 680 681 682 683 684 685 686 687 688 689 690 691 692 693 694 695 696 697 698 699 700 701 702 703 704 705 706 707 708 709 710 711 712 713 714 715 716 717 718 719 720 721 722 723 724 725 726 727 728 729 730 731 732 733 734 735 736 737 738 739 740 741 742 743 744 745 746 747 748 749 750 751 752 753 754 755 756 757 758 759 760 761 762 763 764 765 766 767 768 769 770 771 772 773 774 775 776 777 778 779 780 781 782 783 784 785 786 787 788 789 790 791 792 793 794 795 796 797 798 799 800 801 802 803 804 805 806 807 808 809 810 811 812 813 814 815 816 817 818 819 820 821 822 823 824 825 826 827 828 829 830 831 832 833 834 835 836 837 838 839 840 841 842 843 844 845 846 847 848 849 850 851 852 853 854 855 856 857 858 859 860 861 862 863 864 865 866 867 868 869 870 871 872 873 874 875 876 877 878 879 880 881 882 883 884 885 886 887 888 889 890 891 892 893 894 895 896 897 898 899 900 901 902 903 904 905 906 907 908 909 910 911 912 913 914 915 916 917 918 919 920 921 922 923 924 925 926 927 928 929 930 931 932 933 934 935 936 937 938 939 940 941 942 943 944 945 946 947 948 949 950 951 952 953 954 955 956 957 958 959 960 961 962 963 964 965 966 967 968 969 970 971 972 973 974 975 976 977 978 979 980 981 982 983 984 985 986 987 988 989 990 991 992 993 994 995 996 997 998 999 1000 "
          ],
          "name": "stdout"
        }
      ]
    },
    {
      "cell_type": "code",
      "metadata": {
        "id": "lIXEbYxQROJl",
        "colab_type": "code",
        "colab": {
          "base_uri": "https://localhost:8080/",
          "height": 17,
          "referenced_widgets": [
            "b05f2af7cd7f4f87ab64556cdc1a28cb",
            "d0a4c179cfcf442d995fe59c6bd1e157"
          ]
        },
        "outputId": "3872d69e-ad6c-4841-b039-1715f97688ce"
      },
      "source": [
        "stemmed_test = [stem_words(item[0], item[1]) for item in tqdm(test)]\n",
        "stemmed_padded_test = pad_sequence(stemmed_test, batch_first=True, padding_value=pad_value)\n",
        "indices_test = [get_words_indices(item[0]) for item in tqdm(test)]"
      ],
      "execution_count": 218,
      "outputs": [
        {
          "output_type": "display_data",
          "data": {
            "application/vnd.jupyter.widget-view+json": {
              "model_id": "b05f2af7cd7f4f87ab64556cdc1a28cb",
              "version_minor": 0,
              "version_major": 2
            },
            "text/plain": [
              "HBox(children=(IntProgress(value=0, max=1000), HTML(value='')))"
            ]
          },
          "metadata": {
            "tags": []
          }
        },
        {
          "output_type": "display_data",
          "data": {
            "application/vnd.jupyter.widget-view+json": {
              "model_id": "d0a4c179cfcf442d995fe59c6bd1e157",
              "version_minor": 0,
              "version_major": 2
            },
            "text/plain": [
              "HBox(children=(IntProgress(value=0, max=1000), HTML(value='')))"
            ]
          },
          "metadata": {
            "tags": []
          }
        }
      ]
    },
    {
      "cell_type": "code",
      "metadata": {
        "colab_type": "code",
        "id": "cJ3_rkDCxdOF",
        "colab": {}
      },
      "source": [
        "with torch.no_grad():\n",
        "    test_loader = torch.utils.data.DataLoader(stemmed_padded_test, batch_size=batch_size)\n",
        "    ans = None\n",
        "    \n",
        "    for batch_data in test_loader:\n",
        "        x = batch_data.to(device)\n",
        "        output = model(x.long())\n",
        "        _, ansx = output.max(dim=2)\n",
        "        ansx = ansx.cpu().numpy()\n",
        "        if ans is None:\n",
        "            ans = ansx\n",
        "        else:\n",
        "            ans = np.append(ans, ansx, axis=0)"
      ],
      "execution_count": 0,
      "outputs": []
    },
    {
      "cell_type": "code",
      "metadata": {
        "colab_type": "code",
        "id": "B29hzFLOxdOJ",
        "colab": {}
      },
      "source": [
        "output_filename = \"output.txt\"\n",
        "\n",
        "with open(output_filename, \"w\", encoding=\"utf-8\") as output_file:\n",
        "    for tags, row in zip(ans, test):\n",
        "        start, end = tags\n",
        "        if start > end:\n",
        "            start, end = end, start\n",
        "        if end >= len(row[0]):\n",
        "            start, end = 0, len(row[0]) - 1\n",
        "        output_file.write(row[2] + \"\\t\" + \"\".join(row[0][start:end + 1]) + \"\\n\")\n"
      ],
      "execution_count": 0,
      "outputs": []
    },
    {
      "cell_type": "code",
      "metadata": {
        "colab_type": "code",
        "id": "NjpxYr9Mmogc",
        "colab": {}
      },
      "source": [
        ""
      ],
      "execution_count": 0,
      "outputs": []
    }
  ]
}